{
  "cells": [
    {
      "cell_type": "code",
      "source": [
        "from google.colab import drive\n",
        "\n",
        "drive.mount('/content/gdrive')"
      ],
      "metadata": {
        "id": "SnC_D560iuE-"
      },
      "id": "SnC_D560iuE-",
      "execution_count": null,
      "outputs": []
    },
    {
      "cell_type": "markdown",
      "source": [
        "## Import the Library"
      ],
      "metadata": {
        "id": "NkkxpabvTqDS"
      },
      "id": "NkkxpabvTqDS"
    },
    {
      "cell_type": "code",
      "execution_count": null,
      "id": "c1724fb1",
      "metadata": {
        "id": "c1724fb1"
      },
      "outputs": [],
      "source": [
        "from __future__ import print_function, division\n",
        "\n",
        "import torch\n",
        "import torch.nn as nn\n",
        "import torch.optim as optim\n",
        "from torch.optim import lr_scheduler\n",
        "import torch.backends.cudnn as cudnn\n",
        "import numpy as np\n",
        "import torchvision\n",
        "from torchvision import datasets, models, transforms\n",
        "import matplotlib.pyplot as plt\n",
        "import time\n",
        "import os\n",
        "import copy\n",
        "import os\n",
        "from glob import glob\n",
        "from PIL import Image\n",
        "from tqdm import tqdm\n",
        "\n",
        "\n",
        "cudnn.benchmark = True"
      ]
    },
    {
      "cell_type": "code",
      "execution_count": null,
      "id": "2b4ca7cd",
      "metadata": {
        "id": "2b4ca7cd"
      },
      "outputs": [],
      "source": [
        "def imshow(img, title):\n",
        "    \n",
        "    npimg = img.numpy() / 2 + 0.5\n",
        "    plt.figure(figsize= (batch_size, 1))\n",
        "    plt.axis('off')\n",
        "    plt.imshow(np.transpose(npimg, (1, 2, 0)))\n",
        "    plt.title(title)\n",
        "    plt.show()\n",
        "    \n",
        "def show_batch_images(dataloder):\n",
        "    \n",
        "    images, labels = next(iter(dataloder))\n",
        "    img = torchvision.utils.make_grid(images)\n",
        "    imshow(img, title = [ str(x.item()) for x in labels])    "
      ]
    },
    {
      "cell_type": "markdown",
      "id": "f5aa8983",
      "metadata": {
        "id": "f5aa8983"
      },
      "source": [
        "## Code to load images below"
      ]
    },
    {
      "cell_type": "code",
      "source": [
        "files = glob(\"/content/gdrive/MyDrive/ISB/data/train/*/*\")\n",
        "\n",
        "min_h = 1024\n",
        "min_w = 1024\n",
        "max_h = 0\n",
        "max_w = 0\n",
        "count = 0\n",
        "\n",
        "for file_ in tqdm(files): \n",
        "  img = Image.open(file_)\n",
        "  width, height = img.size\n",
        "\n",
        "  if count == 0:\n",
        "    min_h, max_h = height, height\n",
        "    min_w, max_w = width, width\n",
        "    count += 1\n",
        "\n",
        "  if width < min_w:\n",
        "    min_w = width\n",
        "  if height < min_h:\n",
        "    min_h = height\n",
        "  if max_h < height:\n",
        "    max_h = height\n",
        "  if max_w < width:\n",
        "    max_w = width"
      ],
      "metadata": {
        "id": "EDvej1-iId95"
      },
      "id": "EDvej1-iId95",
      "execution_count": null,
      "outputs": []
    },
    {
      "cell_type": "code",
      "source": [
        "# Total training data\n",
        "print(\"Total train data:\", len(files))\n",
        "\n",
        "print(min_w)\n",
        "print(min_h)\n",
        "print(max_h)\n",
        "print(max_w)\n",
        "\n",
        "img.size"
      ],
      "metadata": {
        "id": "e0rqq4DCRGkb"
      },
      "id": "e0rqq4DCRGkb",
      "execution_count": null,
      "outputs": []
    },
    {
      "cell_type": "code",
      "source": [
        "files = glob(\"/content/gdrive/MyDrive/ISB/data/val/*/*\")\n",
        "\n",
        "min_h = 1024\n",
        "min_w = 1024\n",
        "max_h = 0\n",
        "max_w = 0\n",
        "count = 0\n",
        "\n",
        "for file_ in tqdm(files): \n",
        "  img = Image.open(file_)\n",
        "  width, height = img.size\n",
        "\n",
        "  if count == 0:\n",
        "    min_h, max_h = height, height\n",
        "    min_w, max_w = width, width\n",
        "    count += 1\n",
        "\n",
        "  if width < min_w:\n",
        "    min_w = width\n",
        "  if height < min_h:\n",
        "    min_h = height\n",
        "  if max_h < height:\n",
        "    max_h = height\n",
        "  if max_w < width:\n",
        "    max_w = width"
      ],
      "metadata": {
        "id": "sxtO4P-sGtvH"
      },
      "id": "sxtO4P-sGtvH",
      "execution_count": null,
      "outputs": []
    },
    {
      "cell_type": "code",
      "source": [
        "# Total validation data\n",
        "print(\"Total validation data:\", len(files))\n",
        "\n",
        "print(min_w)\n",
        "print(min_h)\n",
        "print(max_h)\n",
        "print(max_w)\n",
        "\n",
        "img.size"
      ],
      "metadata": {
        "id": "dYlqFL1wQeaX"
      },
      "id": "dYlqFL1wQeaX",
      "execution_count": null,
      "outputs": []
    },
    {
      "cell_type": "markdown",
      "source": [
        "## Applying data augmentation and resizing images to (128, 128)"
      ],
      "metadata": {
        "id": "JaGwqOcatJvq"
      },
      "id": "JaGwqOcatJvq"
    },
    {
      "cell_type": "code",
      "execution_count": null,
      "metadata": {
        "id": "0cbf8a1e"
      },
      "outputs": [],
      "source": [
        "data_dir = '/content/gdrive/MyDrive/ISB/data'\n",
        "\n",
        "data_transforms = {\n",
        "    'train': transforms.Compose([\n",
        "        transforms.Resize((128,128)),\n",
        "        transforms.RandomHorizontalFlip(),\n",
        "        transforms.ToTensor(),\n",
        "        transforms.RandomGrayscale(p=0.1),\n",
        "        transforms.Normalize([0.485, 0.456, 0.406], [0.229, 0.224, 0.225])\n",
        "    ]),\n",
        "    'val': transforms.Compose([\n",
        "        transforms.Resize((128,128)),\n",
        "        transforms.RandomHorizontalFlip(),\n",
        "        transforms.ToTensor(),\n",
        "        transforms.RandomGrayscale(p=0.1),\n",
        "        transforms.Normalize([0.485, 0.456, 0.406], [0.229, 0.224, 0.225])\n",
        "    ]),\n",
        "}"
      ],
      "id": "0cbf8a1e"
    },
    {
      "cell_type": "markdown",
      "source": [
        "## Loading the image dataset"
      ],
      "metadata": {
        "id": "qpS-oaNZtrU_"
      },
      "id": "qpS-oaNZtrU_"
    },
    {
      "cell_type": "code",
      "source": [
        "image_datasets = {x: datasets.ImageFolder(os.path.join(data_dir, x),\n",
        "                                          data_transforms[x])\n",
        "                  for x in ['train', 'val']}\n",
        "\n",
        "train_dataloaders = torch.utils.data.DataLoader(image_datasets['train'], batch_size=64,\n",
        "                                             shuffle=True, num_workers=2)\n",
        "\n",
        "val_dataloaders = torch.utils.data.DataLoader(image_datasets['val'], batch_size=64,\n",
        "                                             shuffle=False, num_workers=2)\n",
        "\n",
        "\n",
        "dataloaders = {x: torch.utils.data.DataLoader(image_datasets[x], batch_size=64,\n",
        "                                             shuffle=True, num_workers=2)\n",
        "              for x in ['train', 'val']}\n",
        "\n",
        "dataset_sizes = {x: len(image_datasets[x]) for x in ['train', 'val']}\n",
        "class_names = image_datasets['train'].classes\n",
        "\n",
        "device = torch.device(\"cuda:0\" if torch.cuda.is_available() else \"cpu\")"
      ],
      "metadata": {
        "id": "abEgv5MntcCg"
      },
      "id": "abEgv5MntcCg",
      "execution_count": null,
      "outputs": []
    },
    {
      "cell_type": "code",
      "source": [
        "len(class_names)  # total validation class"
      ],
      "metadata": {
        "id": "csf10JJeMJV5"
      },
      "id": "csf10JJeMJV5",
      "execution_count": null,
      "outputs": []
    },
    {
      "cell_type": "markdown",
      "id": "144adfb4",
      "metadata": {
        "id": "144adfb4"
      },
      "source": [
        "## Building the Model"
      ]
    },
    {
      "cell_type": "code",
      "source": [
        "model_ft = models.resnet50(pretrained=True)\n",
        "num_ftrs = model_ft.fc.in_features\n",
        "\n",
        "model_ft.fc = nn.Linear(num_ftrs, 100)\n",
        "\n",
        "model_ft = model_ft.to(device)\n",
        "\n",
        "criterion = nn.CrossEntropyLoss()\n",
        "\n",
        "# Observe that all parameters are being optimized\n",
        "optimizer_ft = optim.Adam(model_ft.parameters(), lr=0.001, betas=(0.9,0.999))\n",
        "\n",
        "# Decay LR by a factor of 0.1 every 5 epochs\n",
        "exp_lr_scheduler = lr_scheduler.StepLR(optimizer_ft, step_size=5, gamma=0.1)"
      ],
      "metadata": {
        "id": "uavoEinxafp4"
      },
      "id": "uavoEinxafp4",
      "execution_count": null,
      "outputs": []
    },
    {
      "cell_type": "code",
      "source": [
        "train_losses, test_losses = [], []\n",
        "\n",
        "def train_model(model, criterion, optimizer, scheduler, num_epochs=25):\n",
        "    since = time.time()\n",
        "    best_model_wts = copy.deepcopy(model.state_dict())\n",
        "    best_acc = 0.0\n",
        "\n",
        "    for epoch in range(num_epochs):\n",
        "        print('Epoch {}/{}'.format(epoch, num_epochs))\n",
        "        print('-' * 10)\n",
        "\n",
        "        # Each epoch has a training and validation phase\n",
        "        for phase in ['train', 'val']:\n",
        "            if phase == 'train':\n",
        "                model.train()  # Set model to training mode\n",
        "            else:\n",
        "                model.eval()   # Set model to evaluate mode\n",
        "\n",
        "            running_loss = 0.0\n",
        "            running_corrects = 0\n",
        "\n",
        "            # Iterate over data.\n",
        "            for inputs, labels in dataloaders[phase]:\n",
        "                inputs = inputs.to(device)\n",
        "                labels = labels.to(device)\n",
        "\n",
        "                # zero the parameter gradients\n",
        "                optimizer.zero_grad()\n",
        "\n",
        "                # forward\n",
        "                # track history if only in train\n",
        "                with torch.set_grad_enabled(phase == 'train'):\n",
        "                    outputs = model(inputs)\n",
        "                    _, preds = torch.max(outputs, 1)\n",
        "                    loss = criterion(outputs, labels)\n",
        "\n",
        "                    # backward + optimize only if in training phase\n",
        "                    if phase == 'train':\n",
        "                        loss.backward()\n",
        "                        optimizer.step()\n",
        "\n",
        "                # statistics\n",
        "                running_loss += loss.item() * inputs.size(0)\n",
        "                running_corrects += torch.sum(preds == labels.data)\n",
        "\n",
        "            \n",
        "            if phase == 'train':\n",
        "                scheduler.step()\n",
        "\n",
        "            epoch_loss = running_loss / dataset_sizes[phase]\n",
        "            epoch_acc = running_corrects.double() / dataset_sizes[phase]\n",
        "            \n",
        "            if phase == 'train':\n",
        "              train_losses.append(running_loss / dataset_sizes[phase])\n",
        "\n",
        "            if phase ==\"val\":\n",
        "              test_losses.append(running_loss / dataset_sizes[phase])\n",
        "\n",
        "            print('{} Loss: {:.4f} Acc: {:.4f}'.format(\n",
        "                phase, epoch_loss, epoch_acc))\n",
        "            \n",
        "\n",
        "            # deep copy the model\n",
        "            if phase == 'val' and epoch_acc > best_acc:\n",
        "\n",
        "                best_acc = epoch_acc\n",
        "                best_model_wts = copy.deepcopy(model.state_dict())\n",
        "                \n",
        "\n",
        "        print()\n",
        "\n",
        "    time_elapsed = time.time() - since\n",
        "    print('Training complete in {:.0f}m {:.0f}s'.format(\n",
        "        time_elapsed // 60, time_elapsed % 60))\n",
        "    print('Best val Acc: {:4f}'.format(best_acc))\n",
        "\n",
        "\n",
        "    # load best model weights\n",
        "    model.load_state_dict(best_model_wts)\n",
        "\n",
        "    plt.title('Performance VS Epochs')\n",
        "    plt.plot(train_losses, label='Training loss')\n",
        "    plt.plot(test_losses, label='Validation loss')\n",
        "    plt.xlabel(\"Epochs\")\n",
        "    plt.ylabel(\"Accuracy\")\n",
        "    plt.legend(frameon=True)\n",
        "    plt.show()\n",
        "\n",
        "    return model"
      ],
      "metadata": {
        "id": "XMEj7AZFdoLX"
      },
      "id": "XMEj7AZFdoLX",
      "execution_count": null,
      "outputs": []
    },
    {
      "cell_type": "code",
      "source": [
        "model_ft = train_model(model_ft, criterion, optimizer_ft, exp_lr_scheduler,\n",
        "                       num_epochs=30)"
      ],
      "metadata": {
        "id": "8-9cBBCrafso"
      },
      "id": "8-9cBBCrafso",
      "execution_count": null,
      "outputs": []
    },
    {
      "cell_type": "code",
      "source": [
        ""
      ],
      "metadata": {
        "id": "v5JPy8neWrOK"
      },
      "id": "v5JPy8neWrOK",
      "execution_count": null,
      "outputs": []
    }
  ],
  "metadata": {
    "kernelspec": {
      "display_name": "Python 3",
      "language": "python",
      "name": "python3"
    },
    "language_info": {
      "codemirror_mode": {
        "name": "ipython",
        "version": 3
      },
      "file_extension": ".py",
      "mimetype": "text/x-python",
      "name": "python",
      "nbconvert_exporter": "python",
      "pygments_lexer": "ipython3",
      "version": "3.8.9"
    },
    "colab": {
      "name": "product_placement_task.ipynb",
      "provenance": [],
      "collapsed_sections": [],
      "private_outputs": true
    },
    "accelerator": "GPU"
  },
  "nbformat": 4,
  "nbformat_minor": 5
}